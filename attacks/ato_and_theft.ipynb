{
 "cells": [
  {
   "cell_type": "code",
   "execution_count": 36,
   "metadata": {},
   "outputs": [],
   "source": [
    "import json\n",
    "import numpy as np\n",
    "import pandas as pd \n",
    "import seaborn as sns\n",
    "from commands import COMMANDS\n",
    "from matplotlib import pyplot as plt\n",
    "\n",
    "sns.set_style('whitegrid')"
   ]
  },
  {
   "cell_type": "code",
   "execution_count": 56,
   "metadata": {},
   "outputs": [],
   "source": [
    "data = pd.read_csv('../data/ad_music_proccessed.csv', index_col=0)\n",
    "leads = pd.read_csv('../data/leads.csv', index_col=0)"
   ]
  },
  {
   "cell_type": "code",
   "execution_count": 57,
   "metadata": {},
   "outputs": [
    {
     "data": {
      "text/plain": [
       "cookie                               9018f5d85ecf8185385f99cab02d48f7\n",
       "unique_user_ids     ['U782372', 'U621865', 'U401248', 'U148321', '...\n",
       "num_users                                                          13\n",
       "target_artist                                                   [nan]\n",
       "target_user                                                     [nan]\n",
       "change_password                                                    13\n",
       "disable_mfa                                                        13\n",
       "download_info                                                      13\n",
       "homepage                                                           14\n",
       "personal_details                                                   13\n",
       "view_full_info                                                     13\n",
       "Name: 2, dtype: object"
      ]
     },
     "execution_count": 57,
     "metadata": {},
     "output_type": "execute_result"
    }
   ],
   "source": [
    "ato_lead = leads.iloc[2]\n",
    "ato_lead[ato_lead != 0]"
   ]
  },
  {
   "cell_type": "code",
   "execution_count": 39,
   "metadata": {},
   "outputs": [
    {
     "data": {
      "text/plain": [
       "13"
      ]
     },
     "execution_count": 39,
     "metadata": {},
     "output_type": "execute_result"
    }
   ],
   "source": [
    "ck_data = data[data.cookie.eq(ato_lead.cookie)]\n",
    "ck_data = ck_data[ck_data.command.isin(COMMANDS.ato)]\n",
    "user_command_count = ck_data.groupby('user_id')['command'].nunique()\n",
    "qualified_user_ids = user_command_count[user_command_count.eq(2)].index\n",
    "len(qualified_user_ids)"
   ]
  },
  {
   "cell_type": "code",
   "execution_count": 40,
   "metadata": {},
   "outputs": [
    {
     "data": {
      "text/plain": [
       "13"
      ]
     },
     "execution_count": 40,
     "metadata": {},
     "output_type": "execute_result"
    }
   ],
   "source": [
    "ck_data = data[data.cookie.eq(ato_lead.cookie)]\n",
    "ck_data = ck_data[ck_data.command.isin(COMMANDS.info_steal)]\n",
    "user_command_count = ck_data.groupby('user_id')['command'].nunique()\n",
    "qualified_user_ids = user_command_count[user_command_count.eq(3)].index\n",
    "len(qualified_user_ids)"
   ]
  },
  {
   "cell_type": "markdown",
   "metadata": {},
   "source": [
    "The cookie '9018f5d85ecf8185385f99cab02d48f7' has 13 accounts linked to it.\n",
    "All of them changed passwords and disabled MFA - so they are hijacked (ATO).\n",
    "All of these accounts have viewed thier personal info AND downloaded it - So this is information theft as well."
   ]
  },
  {
   "cell_type": "markdown",
   "metadata": {},
   "source": [
    "Affected accounts:"
   ]
  },
  {
   "cell_type": "code",
   "execution_count": 41,
   "metadata": {},
   "outputs": [
    {
     "data": {
      "text/plain": [
       "Index(['U061389', 'U099019', 'U148321', 'U243397', 'U286051', 'U401248',\n",
       "       'U416122', 'U440291', 'U545064', 'U621865', 'U707396', 'U782372',\n",
       "       'U847514'],\n",
       "      dtype='object', name='user_id')"
      ]
     },
     "execution_count": 41,
     "metadata": {},
     "output_type": "execute_result"
    }
   ],
   "source": [
    "qualified_user_ids"
   ]
  },
  {
   "cell_type": "markdown",
   "metadata": {},
   "source": [
    "General ATO cases"
   ]
  },
  {
   "cell_type": "code",
   "execution_count": 42,
   "metadata": {},
   "outputs": [],
   "source": [
    "out = qualified_user_ids.values.tolist()"
   ]
  },
  {
   "cell_type": "code",
   "execution_count": 43,
   "metadata": {},
   "outputs": [],
   "source": [
    "with open(\"affected_users.json\", \"r\") as f:\n",
    "    out_file = json.load(f)\n",
    "\n",
    "out_file['ato'] = out_file['ato'] + out\n",
    "out_file['information_theft'] = out\n",
    "\n",
    "with open(\"affected_users.json\", \"w\") as f:\n",
    "    json.dump(out_file, f, indent=4)\n",
    "    \n",
    "known_cases =  out_file['ato']"
   ]
  },
  {
   "cell_type": "code",
   "execution_count": 44,
   "metadata": {},
   "outputs": [
    {
     "data": {
      "text/plain": [
       "10"
      ]
     },
     "execution_count": 44,
     "metadata": {},
     "output_type": "execute_result"
    }
   ],
   "source": [
    "ato_data = data[data.command.isin(COMMANDS.ato)]\n",
    "user_command_count = ato_data.groupby('user_id')['command'].nunique()\n",
    "general_user_ids = user_command_count[user_command_count.eq(2)].index\n",
    "general_user_ids = general_user_ids.difference(qualified_user_ids)\n",
    "general_user_ids = general_user_ids.difference(known_cases)\n",
    "len(general_user_ids) "
   ]
  },
  {
   "cell_type": "markdown",
   "metadata": {},
   "source": [
    "10 Account have changed password AND disabled MFA (other than the ones we already know)"
   ]
  },
  {
   "cell_type": "code",
   "execution_count": 45,
   "metadata": {},
   "outputs": [
    {
     "data": {
      "text/html": [
       "<div>\n",
       "<style scoped>\n",
       "    .dataframe tbody tr th:only-of-type {\n",
       "        vertical-align: middle;\n",
       "    }\n",
       "\n",
       "    .dataframe tbody tr th {\n",
       "        vertical-align: top;\n",
       "    }\n",
       "\n",
       "    .dataframe thead th {\n",
       "        text-align: right;\n",
       "    }\n",
       "</style>\n",
       "<table border=\"1\" class=\"dataframe\">\n",
       "  <thead>\n",
       "    <tr style=\"text-align: right;\">\n",
       "      <th>command</th>\n",
       "      <th>A035765</th>\n",
       "      <th>A121720</th>\n",
       "      <th>A409478</th>\n",
       "      <th>A520311</th>\n",
       "      <th>A762816</th>\n",
       "      <th>A783696</th>\n",
       "      <th>AL143326</th>\n",
       "      <th>AL274308</th>\n",
       "      <th>AL283235</th>\n",
       "      <th>AL356613</th>\n",
       "      <th>...</th>\n",
       "      <th>confirmation</th>\n",
       "      <th>disable_mfa</th>\n",
       "      <th>homepage</th>\n",
       "      <th>personal_details</th>\n",
       "      <th>search?q=classical</th>\n",
       "      <th>search?q=hip-hop</th>\n",
       "      <th>search?q=jazz</th>\n",
       "      <th>search?q=pop</th>\n",
       "      <th>search?q=rock</th>\n",
       "      <th>submit_purchase</th>\n",
       "    </tr>\n",
       "    <tr>\n",
       "      <th>user_id</th>\n",
       "      <th></th>\n",
       "      <th></th>\n",
       "      <th></th>\n",
       "      <th></th>\n",
       "      <th></th>\n",
       "      <th></th>\n",
       "      <th></th>\n",
       "      <th></th>\n",
       "      <th></th>\n",
       "      <th></th>\n",
       "      <th></th>\n",
       "      <th></th>\n",
       "      <th></th>\n",
       "      <th></th>\n",
       "      <th></th>\n",
       "      <th></th>\n",
       "      <th></th>\n",
       "      <th></th>\n",
       "      <th></th>\n",
       "      <th></th>\n",
       "      <th></th>\n",
       "    </tr>\n",
       "  </thead>\n",
       "  <tbody>\n",
       "    <tr>\n",
       "      <th>U164867</th>\n",
       "      <td>0</td>\n",
       "      <td>0</td>\n",
       "      <td>0</td>\n",
       "      <td>0</td>\n",
       "      <td>1</td>\n",
       "      <td>0</td>\n",
       "      <td>0</td>\n",
       "      <td>0</td>\n",
       "      <td>1</td>\n",
       "      <td>0</td>\n",
       "      <td>...</td>\n",
       "      <td>1</td>\n",
       "      <td>1</td>\n",
       "      <td>2</td>\n",
       "      <td>1</td>\n",
       "      <td>1</td>\n",
       "      <td>0</td>\n",
       "      <td>0</td>\n",
       "      <td>1</td>\n",
       "      <td>0</td>\n",
       "      <td>1</td>\n",
       "    </tr>\n",
       "    <tr>\n",
       "      <th>U168598</th>\n",
       "      <td>0</td>\n",
       "      <td>0</td>\n",
       "      <td>0</td>\n",
       "      <td>0</td>\n",
       "      <td>0</td>\n",
       "      <td>0</td>\n",
       "      <td>0</td>\n",
       "      <td>1</td>\n",
       "      <td>0</td>\n",
       "      <td>0</td>\n",
       "      <td>...</td>\n",
       "      <td>1</td>\n",
       "      <td>1</td>\n",
       "      <td>5</td>\n",
       "      <td>1</td>\n",
       "      <td>0</td>\n",
       "      <td>0</td>\n",
       "      <td>0</td>\n",
       "      <td>0</td>\n",
       "      <td>0</td>\n",
       "      <td>1</td>\n",
       "    </tr>\n",
       "    <tr>\n",
       "      <th>U368556</th>\n",
       "      <td>1</td>\n",
       "      <td>0</td>\n",
       "      <td>0</td>\n",
       "      <td>0</td>\n",
       "      <td>0</td>\n",
       "      <td>0</td>\n",
       "      <td>0</td>\n",
       "      <td>0</td>\n",
       "      <td>0</td>\n",
       "      <td>0</td>\n",
       "      <td>...</td>\n",
       "      <td>1</td>\n",
       "      <td>1</td>\n",
       "      <td>1</td>\n",
       "      <td>1</td>\n",
       "      <td>0</td>\n",
       "      <td>0</td>\n",
       "      <td>0</td>\n",
       "      <td>0</td>\n",
       "      <td>1</td>\n",
       "      <td>1</td>\n",
       "    </tr>\n",
       "    <tr>\n",
       "      <th>U438102</th>\n",
       "      <td>0</td>\n",
       "      <td>0</td>\n",
       "      <td>1</td>\n",
       "      <td>0</td>\n",
       "      <td>0</td>\n",
       "      <td>0</td>\n",
       "      <td>0</td>\n",
       "      <td>0</td>\n",
       "      <td>0</td>\n",
       "      <td>0</td>\n",
       "      <td>...</td>\n",
       "      <td>1</td>\n",
       "      <td>1</td>\n",
       "      <td>4</td>\n",
       "      <td>1</td>\n",
       "      <td>0</td>\n",
       "      <td>1</td>\n",
       "      <td>0</td>\n",
       "      <td>0</td>\n",
       "      <td>0</td>\n",
       "      <td>1</td>\n",
       "    </tr>\n",
       "    <tr>\n",
       "      <th>U671439</th>\n",
       "      <td>0</td>\n",
       "      <td>0</td>\n",
       "      <td>0</td>\n",
       "      <td>0</td>\n",
       "      <td>0</td>\n",
       "      <td>0</td>\n",
       "      <td>0</td>\n",
       "      <td>0</td>\n",
       "      <td>0</td>\n",
       "      <td>1</td>\n",
       "      <td>...</td>\n",
       "      <td>1</td>\n",
       "      <td>1</td>\n",
       "      <td>6</td>\n",
       "      <td>1</td>\n",
       "      <td>0</td>\n",
       "      <td>0</td>\n",
       "      <td>0</td>\n",
       "      <td>1</td>\n",
       "      <td>0</td>\n",
       "      <td>1</td>\n",
       "    </tr>\n",
       "    <tr>\n",
       "      <th>U687501</th>\n",
       "      <td>0</td>\n",
       "      <td>0</td>\n",
       "      <td>0</td>\n",
       "      <td>0</td>\n",
       "      <td>0</td>\n",
       "      <td>0</td>\n",
       "      <td>0</td>\n",
       "      <td>0</td>\n",
       "      <td>0</td>\n",
       "      <td>0</td>\n",
       "      <td>...</td>\n",
       "      <td>1</td>\n",
       "      <td>1</td>\n",
       "      <td>9</td>\n",
       "      <td>1</td>\n",
       "      <td>1</td>\n",
       "      <td>0</td>\n",
       "      <td>0</td>\n",
       "      <td>0</td>\n",
       "      <td>0</td>\n",
       "      <td>1</td>\n",
       "    </tr>\n",
       "    <tr>\n",
       "      <th>U744743</th>\n",
       "      <td>0</td>\n",
       "      <td>0</td>\n",
       "      <td>0</td>\n",
       "      <td>1</td>\n",
       "      <td>0</td>\n",
       "      <td>0</td>\n",
       "      <td>1</td>\n",
       "      <td>0</td>\n",
       "      <td>0</td>\n",
       "      <td>0</td>\n",
       "      <td>...</td>\n",
       "      <td>1</td>\n",
       "      <td>1</td>\n",
       "      <td>6</td>\n",
       "      <td>1</td>\n",
       "      <td>1</td>\n",
       "      <td>0</td>\n",
       "      <td>0</td>\n",
       "      <td>0</td>\n",
       "      <td>1</td>\n",
       "      <td>1</td>\n",
       "    </tr>\n",
       "    <tr>\n",
       "      <th>U777022</th>\n",
       "      <td>0</td>\n",
       "      <td>0</td>\n",
       "      <td>0</td>\n",
       "      <td>0</td>\n",
       "      <td>0</td>\n",
       "      <td>0</td>\n",
       "      <td>0</td>\n",
       "      <td>0</td>\n",
       "      <td>0</td>\n",
       "      <td>0</td>\n",
       "      <td>...</td>\n",
       "      <td>1</td>\n",
       "      <td>1</td>\n",
       "      <td>12</td>\n",
       "      <td>1</td>\n",
       "      <td>0</td>\n",
       "      <td>0</td>\n",
       "      <td>1</td>\n",
       "      <td>1</td>\n",
       "      <td>0</td>\n",
       "      <td>1</td>\n",
       "    </tr>\n",
       "    <tr>\n",
       "      <th>U883093</th>\n",
       "      <td>0</td>\n",
       "      <td>0</td>\n",
       "      <td>0</td>\n",
       "      <td>0</td>\n",
       "      <td>0</td>\n",
       "      <td>0</td>\n",
       "      <td>0</td>\n",
       "      <td>0</td>\n",
       "      <td>0</td>\n",
       "      <td>0</td>\n",
       "      <td>...</td>\n",
       "      <td>1</td>\n",
       "      <td>1</td>\n",
       "      <td>3</td>\n",
       "      <td>1</td>\n",
       "      <td>0</td>\n",
       "      <td>1</td>\n",
       "      <td>0</td>\n",
       "      <td>0</td>\n",
       "      <td>0</td>\n",
       "      <td>1</td>\n",
       "    </tr>\n",
       "    <tr>\n",
       "      <th>U994777</th>\n",
       "      <td>0</td>\n",
       "      <td>1</td>\n",
       "      <td>0</td>\n",
       "      <td>0</td>\n",
       "      <td>0</td>\n",
       "      <td>1</td>\n",
       "      <td>0</td>\n",
       "      <td>0</td>\n",
       "      <td>0</td>\n",
       "      <td>0</td>\n",
       "      <td>...</td>\n",
       "      <td>1</td>\n",
       "      <td>1</td>\n",
       "      <td>4</td>\n",
       "      <td>1</td>\n",
       "      <td>0</td>\n",
       "      <td>1</td>\n",
       "      <td>0</td>\n",
       "      <td>0</td>\n",
       "      <td>0</td>\n",
       "      <td>1</td>\n",
       "    </tr>\n",
       "  </tbody>\n",
       "</table>\n",
       "<p>10 rows × 31 columns</p>\n",
       "</div>"
      ],
      "text/plain": [
       "command  A035765  A121720  A409478  A520311  A762816  A783696  AL143326  \\\n",
       "user_id                                                                   \n",
       "U164867        0        0        0        0        1        0         0   \n",
       "U168598        0        0        0        0        0        0         0   \n",
       "U368556        1        0        0        0        0        0         0   \n",
       "U438102        0        0        1        0        0        0         0   \n",
       "U671439        0        0        0        0        0        0         0   \n",
       "U687501        0        0        0        0        0        0         0   \n",
       "U744743        0        0        0        1        0        0         1   \n",
       "U777022        0        0        0        0        0        0         0   \n",
       "U883093        0        0        0        0        0        0         0   \n",
       "U994777        0        1        0        0        0        1         0   \n",
       "\n",
       "command  AL274308  AL283235  AL356613  ...  confirmation  disable_mfa  \\\n",
       "user_id                                ...                              \n",
       "U164867         0         1         0  ...             1            1   \n",
       "U168598         1         0         0  ...             1            1   \n",
       "U368556         0         0         0  ...             1            1   \n",
       "U438102         0         0         0  ...             1            1   \n",
       "U671439         0         0         1  ...             1            1   \n",
       "U687501         0         0         0  ...             1            1   \n",
       "U744743         0         0         0  ...             1            1   \n",
       "U777022         0         0         0  ...             1            1   \n",
       "U883093         0         0         0  ...             1            1   \n",
       "U994777         0         0         0  ...             1            1   \n",
       "\n",
       "command  homepage  personal_details  search?q=classical  search?q=hip-hop  \\\n",
       "user_id                                                                     \n",
       "U164867         2                 1                   1                 0   \n",
       "U168598         5                 1                   0                 0   \n",
       "U368556         1                 1                   0                 0   \n",
       "U438102         4                 1                   0                 1   \n",
       "U671439         6                 1                   0                 0   \n",
       "U687501         9                 1                   1                 0   \n",
       "U744743         6                 1                   1                 0   \n",
       "U777022        12                 1                   0                 0   \n",
       "U883093         3                 1                   0                 1   \n",
       "U994777         4                 1                   0                 1   \n",
       "\n",
       "command  search?q=jazz  search?q=pop  search?q=rock  submit_purchase  \n",
       "user_id                                                               \n",
       "U164867              0             1              0                1  \n",
       "U168598              0             0              0                1  \n",
       "U368556              0             0              1                1  \n",
       "U438102              0             0              0                1  \n",
       "U671439              0             1              0                1  \n",
       "U687501              0             0              0                1  \n",
       "U744743              0             0              1                1  \n",
       "U777022              1             1              0                1  \n",
       "U883093              0             0              0                1  \n",
       "U994777              0             0              0                1  \n",
       "\n",
       "[10 rows x 31 columns]"
      ]
     },
     "execution_count": 45,
     "metadata": {},
     "output_type": "execute_result"
    }
   ],
   "source": [
    "ato_data = data[data.user_id.isin(general_user_ids)]\n",
    "pd.crosstab(ato_data['user_id'],ato_data['command'])"
   ]
  },
  {
   "cell_type": "code",
   "execution_count": 46,
   "metadata": {},
   "outputs": [
    {
     "data": {
      "text/plain": [
       "cookie\n",
       "5c887169d0d17b3a65b86fb6ba9a47bc    233\n",
       "Name: count, dtype: int64"
      ]
     },
     "execution_count": 46,
     "metadata": {},
     "output_type": "execute_result"
    }
   ],
   "source": [
    "ato_data.cookie.value_counts()"
   ]
  },
  {
   "cell_type": "markdown",
   "metadata": {},
   "source": [
    "This is definetly ATO - they are all on the same cookie."
   ]
  },
  {
   "cell_type": "code",
   "execution_count": 75,
   "metadata": {},
   "outputs": [
    {
     "data": {
      "text/plain": [
       "cookie                                      5c887169d0d17b3a65b86fb6ba9a47bc\n",
       "unique_user_ids            ['U744743', 'U438102', 'U168598', 'U883093', '...\n",
       "num_users                                                                 10\n",
       "target_artist              ['A903598', nan, 'A972244', 'A520311', 'A61677...\n",
       "target_user                                                            [nan]\n",
       "add_to_cart                                                               73\n",
       "cart                                                                      10\n",
       "change_billing_address                                                    10\n",
       "change_password                                                           10\n",
       "change_shipping_address                                                   10\n",
       "confirmation                                                              10\n",
       "disable_mfa                                                               10\n",
       "homepage                                                                  52\n",
       "personal_details                                                          10\n",
       "search?q=classical                                                         3\n",
       "search?q=hip-hop                                                           3\n",
       "search?q=jazz                                                              1\n",
       "search?q=pop                                                               3\n",
       "search?q=rock                                                              2\n",
       "submit_purchase                                                           10\n",
       "Name: 5, dtype: object"
      ]
     },
     "execution_count": 75,
     "metadata": {},
     "output_type": "execute_result"
    }
   ],
   "source": [
    "theft_lead = leads[[col for col in leads.columns if col not in COMMANDS.strange]].iloc[5]\n",
    "theft_lead[theft_lead != 0]"
   ]
  },
  {
   "cell_type": "code",
   "execution_count": 47,
   "metadata": {},
   "outputs": [
    {
     "data": {
      "text/plain": [
       "10"
      ]
     },
     "execution_count": 47,
     "metadata": {},
     "output_type": "execute_result"
    }
   ],
   "source": [
    "theft_data = ato_data[ato_data.command.isin(COMMANDS.physical_theft)]\n",
    "user_command_count = theft_data.groupby('user_id')['command'].nunique()\n",
    "qualified_user_ids = user_command_count[user_command_count.eq(2)].index\n",
    "len(qualified_user_ids)"
   ]
  },
  {
   "cell_type": "code",
   "execution_count": 52,
   "metadata": {},
   "outputs": [
    {
     "data": {
      "text/plain": [
       "user_id\n",
       "U164867    10\n",
       "U168598     6\n",
       "U368556     9\n",
       "U438102     8\n",
       "U671439     5\n",
       "U687501     7\n",
       "U744743     5\n",
       "U777022     5\n",
       "U883093    10\n",
       "U994777     8\n",
       "Name: command, dtype: int64"
      ]
     },
     "execution_count": 52,
     "metadata": {},
     "output_type": "execute_result"
    }
   ],
   "source": [
    "theft_data = data[data.user_id.isin(qualified_user_ids)]\n",
    "theft_data = theft_data[theft_data.command.eq('add_to_cart')]\n",
    "user_command_count = theft_data.groupby('user_id')['command'].count()\n",
    "user_command_count"
   ]
  },
  {
   "cell_type": "code",
   "execution_count": 53,
   "metadata": {},
   "outputs": [
    {
     "data": {
      "text/plain": [
       "np.int64(73)"
      ]
     },
     "execution_count": 53,
     "metadata": {},
     "output_type": "execute_result"
    }
   ],
   "source": [
    "user_command_count.sum()"
   ]
  },
  {
   "cell_type": "markdown",
   "metadata": {},
   "source": [
    "All 10 accounts were used to submit purchase and changed shipping address. This is fraud. A total of 73 items were stolen."
   ]
  },
  {
   "cell_type": "code",
   "execution_count": 49,
   "metadata": {},
   "outputs": [
    {
     "data": {
      "text/plain": [
       "8"
      ]
     },
     "execution_count": 49,
     "metadata": {},
     "output_type": "execute_result"
    }
   ],
   "source": [
    "strange_cmds = ato_data[ato_data.command.isin(COMMANDS.strange)]\n",
    "user_command_count = strange_cmds.groupby('user_id')['command'].nunique()\n",
    "qualified_user_ids = user_command_count[user_command_count > (0)].index\n",
    "len(qualified_user_ids)"
   ]
  },
  {
   "cell_type": "markdown",
   "metadata": {},
   "source": [
    "Also, 8 of these accounts have used unknown commnads. (Maybe cupon codes?)"
   ]
  },
  {
   "cell_type": "code",
   "execution_count": 50,
   "metadata": {},
   "outputs": [],
   "source": [
    "out = theft_data.user_id.unique().tolist()"
   ]
  },
  {
   "cell_type": "code",
   "execution_count": 51,
   "metadata": {},
   "outputs": [],
   "source": [
    "with open(\"affected_users.json\", \"r\") as f:\n",
    "    out_file = json.load(f)\n",
    "\n",
    "out_file['ato'] = out_file['ato'] + out\n",
    "out_file['theft'] = out\n",
    "\n",
    "with open(\"affected_users.json\", \"w\") as f:\n",
    "    json.dump(out_file, f, indent=4)"
   ]
  }
 ],
 "metadata": {
  "kernelspec": {
   "display_name": ".venv",
   "language": "python",
   "name": "python3"
  },
  "language_info": {
   "codemirror_mode": {
    "name": "ipython",
    "version": 3
   },
   "file_extension": ".py",
   "mimetype": "text/x-python",
   "name": "python",
   "nbconvert_exporter": "python",
   "pygments_lexer": "ipython3",
   "version": "3.12.4"
  }
 },
 "nbformat": 4,
 "nbformat_minor": 2
}
