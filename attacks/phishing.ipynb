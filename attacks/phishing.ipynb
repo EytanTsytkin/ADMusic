{
 "cells": [
  {
   "cell_type": "code",
   "execution_count": 208,
   "metadata": {},
   "outputs": [],
   "source": [
    "import json\n",
    "import numpy as np\n",
    "import pandas as pd \n",
    "import seaborn as sns\n",
    "from commands import COMMANDS\n",
    "from matplotlib import pyplot as plt\n",
    "\n",
    "sns.set_style('whitegrid')"
   ]
  },
  {
   "cell_type": "code",
   "execution_count": 209,
   "metadata": {},
   "outputs": [],
   "source": [
    "data = pd.read_csv('../data/ad_music_proccessed.csv', index_col=0)\n",
    "leads = pd.read_csv('../data/leads.csv' , index_col=0)"
   ]
  },
  {
   "cell_type": "code",
   "execution_count": 210,
   "metadata": {},
   "outputs": [
    {
     "data": {
      "text/plain": [
       "cookie                               6de19499161f9da71032f40b8dd63eb1\n",
       "unique_user_ids     ['U772698', 'U038703', 'U736144', 'U650933', '...\n",
       "num_users                                                          15\n",
       "target_artist                                                   [nan]\n",
       "target_user         [nan, 'U814351', 'U215441', 'U067778', 'U63557...\n",
       "num_target_users                                                  340\n",
       "change_password                                                    15\n",
       "disable_mfa                                                        15\n",
       "homepage                                                           28\n",
       "personal_details                                                   15\n",
       "send_message                                                      339\n",
       "Name: 1, dtype: object"
      ]
     },
     "execution_count": 210,
     "metadata": {},
     "output_type": "execute_result"
    }
   ],
   "source": [
    "phising_lead = leads.iloc[1]\n",
    "phising_lead[phising_lead != 0]"
   ]
  },
  {
   "cell_type": "code",
   "execution_count": 211,
   "metadata": {},
   "outputs": [
    {
     "data": {
      "text/plain": [
       "command\n",
       "send_message        339\n",
       "homepage             28\n",
       "personal_details     15\n",
       "change_password      15\n",
       "disable_mfa          15\n",
       "Name: count, dtype: int64"
      ]
     },
     "execution_count": 211,
     "metadata": {},
     "output_type": "execute_result"
    }
   ],
   "source": [
    "data[data.cookie.eq(phising_lead.cookie)].command.value_counts()"
   ]
  },
  {
   "cell_type": "code",
   "execution_count": 212,
   "metadata": {},
   "outputs": [
    {
     "data": {
      "text/plain": [
       "15"
      ]
     },
     "execution_count": 212,
     "metadata": {},
     "output_type": "execute_result"
    }
   ],
   "source": [
    "ck_data = data[data.cookie.eq(phising_lead.cookie)]\n",
    "ck_data = ck_data[ck_data.command.isin(COMMANDS.ato)]\n",
    "user_command_count = ck_data.groupby('user_id')['command'].nunique()\n",
    "qualified_user_ids = user_command_count[user_command_count.eq(2)].index\n",
    "len(qualified_user_ids)"
   ]
  },
  {
   "cell_type": "markdown",
   "metadata": {},
   "source": [
    "The cookie '6de19499161f9da71032f40b8dd63eb1' has 15 accounts linked to it.\n",
    "All of them changed passwords and disabled MFA - so they are hijacked (ATO)."
   ]
  },
  {
   "cell_type": "code",
   "execution_count": 213,
   "metadata": {},
   "outputs": [
    {
     "data": {
      "text/plain": [
       "user_id\n",
       "U038703    15\n",
       "U155816    30\n",
       "U175180    24\n",
       "U181694    24\n",
       "U217250    26\n",
       "U233527    22\n",
       "U294634    13\n",
       "U445622    24\n",
       "U493261    23\n",
       "U650933    28\n",
       "U736144    21\n",
       "U741536    21\n",
       "U752499    19\n",
       "U772698    23\n",
       "U956095    26\n",
       "Name: command, dtype: int64"
      ]
     },
     "execution_count": 213,
     "metadata": {},
     "output_type": "execute_result"
    }
   ],
   "source": [
    "gp = data[data.user_id.isin(qualified_user_ids)]\n",
    "gp =  gp[gp.command.eq('send_message')]\n",
    "gp.groupby(gp.user_id)['command'].count()"
   ]
  },
  {
   "cell_type": "markdown",
   "metadata": {},
   "source": [
    "these users have sent 339 messages to 339 users - therefore I assume they were all used to phish.\n",
    "the affected accounts are:"
   ]
  },
  {
   "cell_type": "code",
   "execution_count": 214,
   "metadata": {},
   "outputs": [
    {
     "name": "stdout",
     "output_type": "stream",
     "text": [
      "[nan, 'U814351', 'U215441', 'U067778', 'U635572', 'U261904', 'U072722', 'U882040', 'U221352', 'U653192', 'U275033', 'U235310', 'U901110', 'U150188', 'U126768', 'U109070', 'U461332', 'U887018', 'U803632', 'U398953', 'U228861', 'U363593', 'U339709', 'U446002', 'U121466', 'U620898', 'U998497', 'U958167', 'U592260', 'U366410', 'U683448', 'U370021', 'U721406', 'U772497', 'U276601', 'U909192', 'U104275', 'U652643', 'U687168', 'U695316', 'U123850', 'U596419', 'U539135', 'U051240', 'U796018', 'U521003', 'U099438', 'U707641', 'U365585', 'U962271', 'U867970', 'U417092', 'U635376', 'U592182', 'U938141', 'U308624', 'U684029', 'U532230', 'U238855', 'U575832', 'U183676', 'U481254', 'U515754', 'U739833', 'U957025', 'U303617', 'U511242', 'U255119', 'U708566', 'U567187', 'U388556', 'U125944', 'U608409', 'U970013', 'U807499', 'U798657', 'U767633', 'U995710', 'U234599', 'U923534', 'U115195', 'U823623', 'U032570', 'U716748', 'U569628', 'U352329', 'U799714', 'U391599', 'U155678', 'U991957', 'U335264', 'U898462', 'U467032', 'U332977', 'U330976', 'U907692', 'U005077', 'U615654', 'U397942', 'U197647', 'U961714', 'U963385', 'U030323', 'U002242', 'U882663', 'U662469', 'U241637', 'U081636', 'U194170', 'U998142', 'U789539', 'U202626', 'U340935', 'U680058', 'U063983', 'U033496', 'U411600', 'U200724', 'U881632', 'U933495', 'U511860', 'U769109', 'U474820', 'U014922', 'U402444', 'U215539', 'U974280', 'U138208', 'U891034', 'U886729', 'U651136', 'U527620', 'U245768', 'U579667', 'U623391', 'U526059', 'U888794', 'U353579', 'U719869', 'U157594', 'U708790', 'U348328', 'U172949', 'U961804', 'U137158', 'U263840', 'U262735', 'U455656', 'U153205', 'U334606', 'U383030', 'U367253', 'U520947', 'U888882', 'U908400', 'U628409', 'U654121', 'U998677', 'U477550', 'U602363', 'U046334', 'U701693', 'U627074', 'U759377', 'U694967', 'U700032', 'U186166', 'U651420', 'U333962', 'U695266', 'U698593', 'U076932', 'U453323', 'U212897', 'U611915', 'U102488', 'U150047', 'U567475', 'U226245', 'U107496', 'U801015', 'U938045', 'U905898', 'U685807', 'U531933', 'U759045', 'U734508', 'U621482', 'U262536', 'U872659', 'U982242', 'U479528', 'U687653', 'U116339', 'U866567', 'U170023', 'U459946', 'U970702', 'U486514', 'U530279', 'U865559', 'U373758', 'U789141', 'U729520', 'U418536', 'U017826', 'U318430', 'U018680', 'U966082', 'U961121', 'U865153', 'U071837', 'U201517', 'U407131', 'U741239', 'U633192', 'U319934', 'U011124', 'U223032', 'U396199', 'U128753', 'U764111', 'U750095', 'U966907', 'U248540', 'U161894', 'U320837', 'U291553', 'U828906', 'U297645', 'U318725', 'U265611', 'U719111', 'U862356', 'U672618', 'U737943', 'U590908', 'U272695', 'U805045', 'U486665', 'U622480', 'U233213', 'U511909', 'U161561', 'U672040', 'U408876', 'U112339', 'U095137', 'U482588', 'U631991', 'U873089', 'U282645', 'U350864', 'U258554', 'U048441', 'U117243', 'U047396', 'U252931', 'U771677', 'U901387', 'U603325', 'U062767', 'U508737', 'U924822', 'U101462', 'U406759', 'U200909', 'U470613', 'U409931', 'U771114', 'U005099', 'U355075', 'U329207', 'U200188', 'U176963', 'U145804', 'U589329', 'U402027', 'U656539', 'U206614', 'U855098', 'U001676', 'U589890', 'U777607', 'U900107', 'U496578', 'U928630', 'U156538', 'U403817', 'U222134', 'U952461', 'U863451', 'U428621', 'U934367', 'U235575', 'U692602', 'U894384', 'U663607', 'U681649', 'U431297', 'U624650', 'U062929', 'U421274', 'U305834', 'U289153', 'U623245', 'U574635', 'U513811', 'U989716', 'U153001', 'U757408', 'U675337', 'U628186', 'U600759', 'U231800', 'U004793', 'U604068', 'U272129', 'U711754', 'U031313', 'U154007', 'U623807', 'U310683', 'U190117', 'U846231', 'U246888', 'U928171', 'U354454', 'U810656', 'U161533', 'U737905', 'U996946', 'U115276', 'U790913', 'U446505', 'U458956', 'U366528', 'U743066', 'U010362', 'U121157']\n"
     ]
    }
   ],
   "source": [
    "print(phising_lead.target_user)"
   ]
  },
  {
   "cell_type": "code",
   "execution_count": 215,
   "metadata": {},
   "outputs": [],
   "source": [
    "# Save affected Accounts\n",
    "out = phising_lead.target_user.split(', ')[1:]\n",
    "out = [x.replace(\"'\",\"\") for x in out]\n",
    "out = [x.replace(\"]\",\"\") for x in out]\n",
    "out_ato = qualified_user_ids.values.tolist()\n",
    "\n",
    "with open(\"affected_users.json\", \"r\") as f:\n",
    "    out_file = json.load(f)\n",
    "\n",
    "out_file['phishing'] = out\n",
    "if 'ato' in out_file.keys():\n",
    "    out_file['ato'] = out_file['ato'] + out_ato\n",
    "else:\n",
    "    out_file['ato'] = out_ato\n",
    "with open(\"affected_users.json\", \"w\") as f:\n",
    "    json.dump(out_file, f, indent=4)"
   ]
  },
  {
   "cell_type": "markdown",
   "metadata": {},
   "source": [
    "we can search for evidence of phishing in both general ato population and free account population."
   ]
  },
  {
   "cell_type": "markdown",
   "metadata": {},
   "source": [
    "free accounts"
   ]
  },
  {
   "cell_type": "code",
   "execution_count": 216,
   "metadata": {},
   "outputs": [
    {
     "data": {
      "text/plain": [
       "(6662, 34)"
      ]
     },
     "execution_count": 216,
     "metadata": {},
     "output_type": "execute_result"
    }
   ],
   "source": [
    "free_accounts = data[data.subscription_status.eq('trial')]\n",
    "free_accounts.shape"
   ]
  },
  {
   "cell_type": "code",
   "execution_count": 217,
   "metadata": {},
   "outputs": [
    {
     "data": {
      "text/plain": [
       "45"
      ]
     },
     "execution_count": 217,
     "metadata": {},
     "output_type": "execute_result"
    }
   ],
   "source": [
    "msg_accounts = free_accounts[free_accounts.command.eq('send_message')]\n",
    "msg_accounts.user_id.nunique()"
   ]
  },
  {
   "cell_type": "markdown",
   "metadata": {},
   "source": [
    "45 free users have sent messages."
   ]
  },
  {
   "cell_type": "code",
   "execution_count": 218,
   "metadata": {},
   "outputs": [
    {
     "data": {
      "text/plain": [
       "email_domain\n",
       "yahoo.com      44\n",
       "hotmail.com    25\n",
       "gmail.com      20\n",
       "Name: count, dtype: int64"
      ]
     },
     "execution_count": 218,
     "metadata": {},
     "output_type": "execute_result"
    }
   ],
   "source": [
    "msg_accounts.email_domain.value_counts()"
   ]
  },
  {
   "cell_type": "code",
   "execution_count": 219,
   "metadata": {},
   "outputs": [
    {
     "data": {
      "text/plain": [
       "ip_c_class\n",
       "88.0.0     28\n",
       "79.0.0     17\n",
       "68.0.0     17\n",
       "12.0.0     10\n",
       "217.0.0    10\n",
       "73.0.0      7\n",
       "Name: count, dtype: int64"
      ]
     },
     "execution_count": 219,
     "metadata": {},
     "output_type": "execute_result"
    }
   ],
   "source": [
    "msg_accounts.ip_c_class.value_counts()"
   ]
  },
  {
   "cell_type": "code",
   "execution_count": 220,
   "metadata": {},
   "outputs": [
    {
     "data": {
      "text/plain": [
       "os_family\n",
       "Mac OS X    32\n",
       "Linux       31\n",
       "Windows     26\n",
       "Name: count, dtype: int64"
      ]
     },
     "execution_count": 220,
     "metadata": {},
     "output_type": "execute_result"
    }
   ],
   "source": [
    "msg_accounts.os_family.value_counts()"
   ]
  },
  {
   "cell_type": "code",
   "execution_count": 221,
   "metadata": {},
   "outputs": [
    {
     "name": "stderr",
     "output_type": "stream",
     "text": [
      "/var/folders/ms/zw030byx3qsfvlvyyfnnr7sm0000gn/T/ipykernel_33556/1831712990.py:1: UserWarning: Boolean Series key will be reindexed to match DataFrame index.\n",
      "  msg_accounts[msg_accounts.browser_family.eq('Edge')][msg_accounts.os_family.eq('Linux')]\n"
     ]
    },
    {
     "data": {
      "text/html": [
       "<div>\n",
       "<style scoped>\n",
       "    .dataframe tbody tr th:only-of-type {\n",
       "        vertical-align: middle;\n",
       "    }\n",
       "\n",
       "    .dataframe tbody tr th {\n",
       "        vertical-align: top;\n",
       "    }\n",
       "\n",
       "    .dataframe thead th {\n",
       "        text-align: right;\n",
       "    }\n",
       "</style>\n",
       "<table border=\"1\" class=\"dataframe\">\n",
       "  <thead>\n",
       "    <tr style=\"text-align: right;\">\n",
       "      <th></th>\n",
       "      <th>timestamp</th>\n",
       "      <th>user_id</th>\n",
       "      <th>user_email</th>\n",
       "      <th>account_creation_date</th>\n",
       "      <th>subscription_status</th>\n",
       "      <th>account_tier</th>\n",
       "      <th>path</th>\n",
       "      <th>http_method</th>\n",
       "      <th>ip</th>\n",
       "      <th>org</th>\n",
       "      <th>...</th>\n",
       "      <th>domain_rarity</th>\n",
       "      <th>ip_c_class</th>\n",
       "      <th>device_age</th>\n",
       "      <th>cookie_age</th>\n",
       "      <th>country_age</th>\n",
       "      <th>asn_age</th>\n",
       "      <th>ua_age</th>\n",
       "      <th>browser_age</th>\n",
       "      <th>os_age</th>\n",
       "      <th>ip_age</th>\n",
       "    </tr>\n",
       "  </thead>\n",
       "  <tbody>\n",
       "    <tr>\n",
       "      <th>86922</th>\n",
       "      <td>2024-07-01 22:42:58</td>\n",
       "      <td>U572283</td>\n",
       "      <td>michaelwilson@gmail.com</td>\n",
       "      <td>2024-07-01 22:09:43</td>\n",
       "      <td>trial</td>\n",
       "      <td>listener</td>\n",
       "      <td>/send_to/U847456/send_message</td>\n",
       "      <td>POST</td>\n",
       "      <td>73.0.0.53</td>\n",
       "      <td>Comcast Cable Communications, LLC</td>\n",
       "      <td>...</td>\n",
       "      <td>0.324374</td>\n",
       "      <td>73.0.0</td>\n",
       "      <td>0</td>\n",
       "      <td>0</td>\n",
       "      <td>0</td>\n",
       "      <td>0</td>\n",
       "      <td>0</td>\n",
       "      <td>0</td>\n",
       "      <td>0</td>\n",
       "      <td>0</td>\n",
       "    </tr>\n",
       "    <tr>\n",
       "      <th>87068</th>\n",
       "      <td>2024-07-02 00:40:08</td>\n",
       "      <td>U387239</td>\n",
       "      <td>ianchavez@yahoo.com</td>\n",
       "      <td>2024-07-01 23:59:43</td>\n",
       "      <td>trial</td>\n",
       "      <td>listener</td>\n",
       "      <td>/send_to/U276679/send_message</td>\n",
       "      <td>POST</td>\n",
       "      <td>88.0.0.90</td>\n",
       "      <td>Telefonica de Espana</td>\n",
       "      <td>...</td>\n",
       "      <td>0.317860</td>\n",
       "      <td>88.0.0</td>\n",
       "      <td>0</td>\n",
       "      <td>0</td>\n",
       "      <td>0</td>\n",
       "      <td>0</td>\n",
       "      <td>0</td>\n",
       "      <td>0</td>\n",
       "      <td>0</td>\n",
       "      <td>0</td>\n",
       "    </tr>\n",
       "    <tr>\n",
       "      <th>88610</th>\n",
       "      <td>2024-07-03 09:22:44</td>\n",
       "      <td>U390856</td>\n",
       "      <td>qjohnson@yahoo.com</td>\n",
       "      <td>2024-07-01 16:58:18</td>\n",
       "      <td>trial</td>\n",
       "      <td>listener</td>\n",
       "      <td>/send_to/U600173/send_message</td>\n",
       "      <td>POST</td>\n",
       "      <td>88.0.0.56</td>\n",
       "      <td>Telefonica de Espana</td>\n",
       "      <td>...</td>\n",
       "      <td>0.317860</td>\n",
       "      <td>88.0.0</td>\n",
       "      <td>0</td>\n",
       "      <td>0</td>\n",
       "      <td>0</td>\n",
       "      <td>0</td>\n",
       "      <td>0</td>\n",
       "      <td>0</td>\n",
       "      <td>0</td>\n",
       "      <td>0</td>\n",
       "    </tr>\n",
       "    <tr>\n",
       "      <th>88781</th>\n",
       "      <td>2024-07-03 12:55:06</td>\n",
       "      <td>U943901</td>\n",
       "      <td>herrerajessica@yahoo.com</td>\n",
       "      <td>2024-07-01 20:02:26</td>\n",
       "      <td>trial</td>\n",
       "      <td>listener</td>\n",
       "      <td>/send_to/U074905/send_message</td>\n",
       "      <td>POST</td>\n",
       "      <td>88.0.0.30</td>\n",
       "      <td>Telefonica de Espana</td>\n",
       "      <td>...</td>\n",
       "      <td>0.317860</td>\n",
       "      <td>88.0.0</td>\n",
       "      <td>0</td>\n",
       "      <td>0</td>\n",
       "      <td>0</td>\n",
       "      <td>0</td>\n",
       "      <td>0</td>\n",
       "      <td>0</td>\n",
       "      <td>0</td>\n",
       "      <td>0</td>\n",
       "    </tr>\n",
       "    <tr>\n",
       "      <th>88833</th>\n",
       "      <td>2024-07-03 13:44:42</td>\n",
       "      <td>U390856</td>\n",
       "      <td>qjohnson@yahoo.com</td>\n",
       "      <td>2024-07-01 16:58:18</td>\n",
       "      <td>trial</td>\n",
       "      <td>listener</td>\n",
       "      <td>/send_to/U696726/send_message</td>\n",
       "      <td>POST</td>\n",
       "      <td>88.0.0.56</td>\n",
       "      <td>Telefonica de Espana</td>\n",
       "      <td>...</td>\n",
       "      <td>0.317860</td>\n",
       "      <td>88.0.0</td>\n",
       "      <td>0</td>\n",
       "      <td>0</td>\n",
       "      <td>0</td>\n",
       "      <td>0</td>\n",
       "      <td>0</td>\n",
       "      <td>0</td>\n",
       "      <td>0</td>\n",
       "      <td>0</td>\n",
       "    </tr>\n",
       "    <tr>\n",
       "      <th>90856</th>\n",
       "      <td>2024-07-05 08:03:12</td>\n",
       "      <td>U390856</td>\n",
       "      <td>qjohnson@yahoo.com</td>\n",
       "      <td>2024-07-01 16:58:18</td>\n",
       "      <td>trial</td>\n",
       "      <td>listener</td>\n",
       "      <td>/send_to/U952291/send_message</td>\n",
       "      <td>POST</td>\n",
       "      <td>88.0.0.56</td>\n",
       "      <td>Telefonica de Espana</td>\n",
       "      <td>...</td>\n",
       "      <td>0.317860</td>\n",
       "      <td>88.0.0</td>\n",
       "      <td>0</td>\n",
       "      <td>0</td>\n",
       "      <td>0</td>\n",
       "      <td>0</td>\n",
       "      <td>0</td>\n",
       "      <td>0</td>\n",
       "      <td>0</td>\n",
       "      <td>0</td>\n",
       "    </tr>\n",
       "    <tr>\n",
       "      <th>90992</th>\n",
       "      <td>2024-07-05 11:36:32</td>\n",
       "      <td>U157986</td>\n",
       "      <td>roy08@hotmail.com</td>\n",
       "      <td>2024-07-04 00:00:00</td>\n",
       "      <td>trial</td>\n",
       "      <td>listener</td>\n",
       "      <td>/send_to/U763012/send_message</td>\n",
       "      <td>POST</td>\n",
       "      <td>217.0.0.63</td>\n",
       "      <td>British Telecommunications PLC</td>\n",
       "      <td>...</td>\n",
       "      <td>0.310417</td>\n",
       "      <td>217.0.0</td>\n",
       "      <td>15</td>\n",
       "      <td>30</td>\n",
       "      <td>10</td>\n",
       "      <td>26</td>\n",
       "      <td>34</td>\n",
       "      <td>34</td>\n",
       "      <td>34</td>\n",
       "      <td>23</td>\n",
       "    </tr>\n",
       "    <tr>\n",
       "      <th>91359</th>\n",
       "      <td>2024-07-05 18:24:29</td>\n",
       "      <td>U362494</td>\n",
       "      <td>williamhanson@yahoo.com</td>\n",
       "      <td>2024-07-01 02:19:08</td>\n",
       "      <td>trial</td>\n",
       "      <td>listener</td>\n",
       "      <td>/send_to/U520387/send_message</td>\n",
       "      <td>POST</td>\n",
       "      <td>79.0.0.3</td>\n",
       "      <td>Telecom Italia</td>\n",
       "      <td>...</td>\n",
       "      <td>0.317860</td>\n",
       "      <td>79.0.0</td>\n",
       "      <td>0</td>\n",
       "      <td>0</td>\n",
       "      <td>0</td>\n",
       "      <td>0</td>\n",
       "      <td>0</td>\n",
       "      <td>0</td>\n",
       "      <td>0</td>\n",
       "      <td>0</td>\n",
       "    </tr>\n",
       "    <tr>\n",
       "      <th>91669</th>\n",
       "      <td>2024-07-06 00:47:06</td>\n",
       "      <td>U362494</td>\n",
       "      <td>williamhanson@yahoo.com</td>\n",
       "      <td>2024-07-01 02:19:08</td>\n",
       "      <td>trial</td>\n",
       "      <td>listener</td>\n",
       "      <td>/send_to/U563710/send_message</td>\n",
       "      <td>POST</td>\n",
       "      <td>79.0.0.3</td>\n",
       "      <td>Telecom Italia</td>\n",
       "      <td>...</td>\n",
       "      <td>0.317860</td>\n",
       "      <td>79.0.0</td>\n",
       "      <td>0</td>\n",
       "      <td>0</td>\n",
       "      <td>0</td>\n",
       "      <td>0</td>\n",
       "      <td>0</td>\n",
       "      <td>0</td>\n",
       "      <td>0</td>\n",
       "      <td>0</td>\n",
       "    </tr>\n",
       "    <tr>\n",
       "      <th>91788</th>\n",
       "      <td>2024-07-06 03:25:04</td>\n",
       "      <td>U387239</td>\n",
       "      <td>ianchavez@yahoo.com</td>\n",
       "      <td>2024-07-01 23:59:43</td>\n",
       "      <td>trial</td>\n",
       "      <td>listener</td>\n",
       "      <td>/send_to/U348649/send_message</td>\n",
       "      <td>POST</td>\n",
       "      <td>88.0.0.90</td>\n",
       "      <td>Telefonica de Espana</td>\n",
       "      <td>...</td>\n",
       "      <td>0.317860</td>\n",
       "      <td>88.0.0</td>\n",
       "      <td>0</td>\n",
       "      <td>0</td>\n",
       "      <td>0</td>\n",
       "      <td>0</td>\n",
       "      <td>0</td>\n",
       "      <td>0</td>\n",
       "      <td>0</td>\n",
       "      <td>0</td>\n",
       "    </tr>\n",
       "  </tbody>\n",
       "</table>\n",
       "<p>10 rows × 34 columns</p>\n",
       "</div>"
      ],
      "text/plain": [
       "                 timestamp  user_id                user_email  \\\n",
       "86922  2024-07-01 22:42:58  U572283   michaelwilson@gmail.com   \n",
       "87068  2024-07-02 00:40:08  U387239       ianchavez@yahoo.com   \n",
       "88610  2024-07-03 09:22:44  U390856        qjohnson@yahoo.com   \n",
       "88781  2024-07-03 12:55:06  U943901  herrerajessica@yahoo.com   \n",
       "88833  2024-07-03 13:44:42  U390856        qjohnson@yahoo.com   \n",
       "90856  2024-07-05 08:03:12  U390856        qjohnson@yahoo.com   \n",
       "90992  2024-07-05 11:36:32  U157986         roy08@hotmail.com   \n",
       "91359  2024-07-05 18:24:29  U362494   williamhanson@yahoo.com   \n",
       "91669  2024-07-06 00:47:06  U362494   williamhanson@yahoo.com   \n",
       "91788  2024-07-06 03:25:04  U387239       ianchavez@yahoo.com   \n",
       "\n",
       "      account_creation_date subscription_status account_tier  \\\n",
       "86922   2024-07-01 22:09:43               trial     listener   \n",
       "87068   2024-07-01 23:59:43               trial     listener   \n",
       "88610   2024-07-01 16:58:18               trial     listener   \n",
       "88781   2024-07-01 20:02:26               trial     listener   \n",
       "88833   2024-07-01 16:58:18               trial     listener   \n",
       "90856   2024-07-01 16:58:18               trial     listener   \n",
       "90992   2024-07-04 00:00:00               trial     listener   \n",
       "91359   2024-07-01 02:19:08               trial     listener   \n",
       "91669   2024-07-01 02:19:08               trial     listener   \n",
       "91788   2024-07-01 23:59:43               trial     listener   \n",
       "\n",
       "                                path http_method          ip  \\\n",
       "86922  /send_to/U847456/send_message        POST   73.0.0.53   \n",
       "87068  /send_to/U276679/send_message        POST   88.0.0.90   \n",
       "88610  /send_to/U600173/send_message        POST   88.0.0.56   \n",
       "88781  /send_to/U074905/send_message        POST   88.0.0.30   \n",
       "88833  /send_to/U696726/send_message        POST   88.0.0.56   \n",
       "90856  /send_to/U952291/send_message        POST   88.0.0.56   \n",
       "90992  /send_to/U763012/send_message        POST  217.0.0.63   \n",
       "91359  /send_to/U520387/send_message        POST    79.0.0.3   \n",
       "91669  /send_to/U563710/send_message        POST    79.0.0.3   \n",
       "91788  /send_to/U348649/send_message        POST   88.0.0.90   \n",
       "\n",
       "                                     org  ... domain_rarity ip_c_class  \\\n",
       "86922  Comcast Cable Communications, LLC  ...      0.324374     73.0.0   \n",
       "87068               Telefonica de Espana  ...      0.317860     88.0.0   \n",
       "88610               Telefonica de Espana  ...      0.317860     88.0.0   \n",
       "88781               Telefonica de Espana  ...      0.317860     88.0.0   \n",
       "88833               Telefonica de Espana  ...      0.317860     88.0.0   \n",
       "90856               Telefonica de Espana  ...      0.317860     88.0.0   \n",
       "90992     British Telecommunications PLC  ...      0.310417    217.0.0   \n",
       "91359                     Telecom Italia  ...      0.317860     79.0.0   \n",
       "91669                     Telecom Italia  ...      0.317860     79.0.0   \n",
       "91788               Telefonica de Espana  ...      0.317860     88.0.0   \n",
       "\n",
       "      device_age cookie_age country_age asn_age ua_age  browser_age os_age  \\\n",
       "86922          0          0           0       0      0            0      0   \n",
       "87068          0          0           0       0      0            0      0   \n",
       "88610          0          0           0       0      0            0      0   \n",
       "88781          0          0           0       0      0            0      0   \n",
       "88833          0          0           0       0      0            0      0   \n",
       "90856          0          0           0       0      0            0      0   \n",
       "90992         15         30          10      26     34           34     34   \n",
       "91359          0          0           0       0      0            0      0   \n",
       "91669          0          0           0       0      0            0      0   \n",
       "91788          0          0           0       0      0            0      0   \n",
       "\n",
       "       ip_age  \n",
       "86922       0  \n",
       "87068       0  \n",
       "88610       0  \n",
       "88781       0  \n",
       "88833       0  \n",
       "90856       0  \n",
       "90992      23  \n",
       "91359       0  \n",
       "91669       0  \n",
       "91788       0  \n",
       "\n",
       "[10 rows x 34 columns]"
      ]
     },
     "execution_count": 221,
     "metadata": {},
     "output_type": "execute_result"
    }
   ],
   "source": [
    "msg_accounts[msg_accounts.browser_family.eq('Edge')][msg_accounts.os_family.eq('Linux')]"
   ]
  },
  {
   "cell_type": "markdown",
   "metadata": {},
   "source": [
    "After futher examination of the data i saw no evidence of malicious activity.\n",
    "These accounts use legit email domains (hotmail, gmail, yahoo), spread over different ip a classes, different devices and browsers. \n",
    "Even the strage case of Edge browser on Linux seems legit. "
   ]
  }
 ],
 "metadata": {
  "kernelspec": {
   "display_name": ".venv",
   "language": "python",
   "name": "python3"
  },
  "language_info": {
   "codemirror_mode": {
    "name": "ipython",
    "version": 3
   },
   "file_extension": ".py",
   "mimetype": "text/x-python",
   "name": "python",
   "nbconvert_exporter": "python",
   "pygments_lexer": "ipython3",
   "version": "3.12.4"
  }
 },
 "nbformat": 4,
 "nbformat_minor": 2
}
