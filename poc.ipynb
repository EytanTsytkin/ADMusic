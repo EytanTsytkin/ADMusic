{
 "cells": [
  {
   "cell_type": "code",
   "execution_count": 36,
   "metadata": {},
   "outputs": [],
   "source": [
    "from sensetity_calculator import calculate_session_sensetivity\n",
    "from related_sessions_finder import fetch_related_sessions, index_data\n",
    "from matplotlib import pyplot as plt\n",
    "import numpy as np\n",
    "import pandas as pd\n",
    "import json"
   ]
  },
  {
   "cell_type": "code",
   "execution_count": 12,
   "metadata": {},
   "outputs": [],
   "source": [
    "data = pd.read_csv('data/ad_music_proccessed.csv', index_col=0)\n",
    "data['sensetivity'] = data.apply(lambda session: calculate_session_sensetivity(session), axis=1)"
   ]
  },
  {
   "cell_type": "code",
   "execution_count": 13,
   "metadata": {},
   "outputs": [],
   "source": [
    "device_data,ip_data,ck_data, ip_c_data, domain_data = index_data(data)\n",
    "def score_session(session):\n",
    "    x = fetch_related_sessions(session, device_data,ip_data,ck_data, ip_c_data, domain_data)\n",
    "    session_score =  session.sensetivity + sum(x.sensetivity * x.relevance)\n",
    "    return session_score"
   ]
  },
  {
   "cell_type": "code",
   "execution_count": 14,
   "metadata": {},
   "outputs": [],
   "source": [
    "data['session_score'] = data.apply(lambda session: score_session(session),axis=1)\n"
   ]
  },
  {
   "cell_type": "code",
   "execution_count": 15,
   "metadata": {},
   "outputs": [],
   "source": [
    "data.to_csv('data/scored_sessions.csv')"
   ]
  },
  {
   "cell_type": "code",
   "execution_count": 20,
   "metadata": {},
   "outputs": [
    {
     "data": {
      "image/png": "[encoded data removed]",
      "text/plain": [
       "<Figure size 640x480 with 1 Axes>"
      ]
     },
     "metadata": {},
     "output_type": "display_data"
    }
   ],
   "source": [
    "data.session_score.hist(bins=50)\n",
    "plt.title('Histogram of Session Scores')\n",
    "plt.ylabel('Session Count')\n",
    "plt.xlabel('Score')\n",
    "plt.show()"
   ]
  },
  {
   "cell_type": "code",
   "execution_count": 21,
   "metadata": {},
   "outputs": [
    {
     "data": {
      "text/plain": [
       "count    93645.000000\n",
       "mean         1.303772\n",
       "std          5.424941\n",
       "min          0.001000\n",
       "25%          0.054000\n",
       "50%          0.134000\n",
       "75%          0.958000\n",
       "max        115.350000\n",
       "Name: session_score, dtype: float64"
      ]
     },
     "execution_count": 21,
     "metadata": {},
     "output_type": "execute_result"
    }
   ],
   "source": [
    "data.session_score.describe()"
   ]
  },
  {
   "cell_type": "markdown",
   "metadata": {},
   "source": [
    "The 75th Percentile of score is still below 1, meaning most of the are not sensetive sessions (include senstive commands).\n",
    "By selecting a score threshold we can control the amount of sessions flagged as malicious.\n",
    "I will use the the maximal number that catches all fund extraction, info steal, physical theft and most of the ato.\n",
    "By 'catches' I mean the following : contains at least one session with score > threshold where user id is in the pool of affected accounts."
   ]
  },
  {
   "cell_type": "code",
   "execution_count": 42,
   "metadata": {},
   "outputs": [
    {
     "name": "stdout",
     "output_type": "stream",
     "text": [
      "Attack Type: funds_extraction, Num Affected Accounts: 20\n",
      "Attack Type: ato, Num Affected Accounts: 58\n",
      "Attack Type: information_theft, Num Affected Accounts: 13\n",
      "Attack Type: theft, Num Affected Accounts: 10\n"
     ]
    }
   ],
   "source": [
    "with open('attacks/affected_users.json','r') as f:\n",
    "    affected_accounts = json.load(f)\n",
    "affected_accounts.pop('phising',None)\n",
    "for key,val in affected_accounts.items():\n",
    "    print(f\"Attack Type: {key}, Num Affected Accounts: {len(val)}\")\n"
   ]
  },
  {
   "cell_type": "code",
   "execution_count": 61,
   "metadata": {},
   "outputs": [
    {
     "data": {
      "text/html": [
       "<div>\n",
       "<style scoped>\n",
       "    .dataframe tbody tr th:only-of-type {\n",
       "        vertical-align: middle;\n",
       "    }\n",
       "\n",
       "    .dataframe tbody tr th {\n",
       "        vertical-align: top;\n",
       "    }\n",
       "\n",
       "    .dataframe thead th {\n",
       "        text-align: right;\n",
       "    }\n",
       "</style>\n",
       "<table border=\"1\" class=\"dataframe\">\n",
       "  <thead>\n",
       "    <tr style=\"text-align: right;\">\n",
       "      <th></th>\n",
       "      <th>threshold</th>\n",
       "      <th>total_sessions_found</th>\n",
       "      <th>total_accounts_found</th>\n",
       "      <th>fund_extraction_found</th>\n",
       "      <th>information_theft_found</th>\n",
       "      <th>theft_found</th>\n",
       "      <th>ato_found</th>\n",
       "    </tr>\n",
       "  </thead>\n",
       "  <tbody>\n",
       "    <tr>\n",
       "      <th>0</th>\n",
       "      <td>0.00000</td>\n",
       "      <td>93645</td>\n",
       "      <td>2430</td>\n",
       "      <td>20</td>\n",
       "      <td>13</td>\n",
       "      <td>10</td>\n",
       "      <td>58</td>\n",
       "    </tr>\n",
       "    <tr>\n",
       "      <th>1</th>\n",
       "      <td>0.10101</td>\n",
       "      <td>54970</td>\n",
       "      <td>1988</td>\n",
       "      <td>20</td>\n",
       "      <td>13</td>\n",
       "      <td>10</td>\n",
       "      <td>58</td>\n",
       "    </tr>\n",
       "    <tr>\n",
       "      <th>2</th>\n",
       "      <td>0.20202</td>\n",
       "      <td>36548</td>\n",
       "      <td>1390</td>\n",
       "      <td>20</td>\n",
       "      <td>13</td>\n",
       "      <td>10</td>\n",
       "      <td>58</td>\n",
       "    </tr>\n",
       "    <tr>\n",
       "      <th>3</th>\n",
       "      <td>0.30303</td>\n",
       "      <td>30510</td>\n",
       "      <td>1096</td>\n",
       "      <td>20</td>\n",
       "      <td>13</td>\n",
       "      <td>10</td>\n",
       "      <td>58</td>\n",
       "    </tr>\n",
       "    <tr>\n",
       "      <th>4</th>\n",
       "      <td>0.40404</td>\n",
       "      <td>29000</td>\n",
       "      <td>1023</td>\n",
       "      <td>20</td>\n",
       "      <td>13</td>\n",
       "      <td>10</td>\n",
       "      <td>58</td>\n",
       "    </tr>\n",
       "    <tr>\n",
       "      <th>...</th>\n",
       "      <td>...</td>\n",
       "      <td>...</td>\n",
       "      <td>...</td>\n",
       "      <td>...</td>\n",
       "      <td>...</td>\n",
       "      <td>...</td>\n",
       "      <td>...</td>\n",
       "    </tr>\n",
       "    <tr>\n",
       "      <th>95</th>\n",
       "      <td>9.59596</td>\n",
       "      <td>1659</td>\n",
       "      <td>93</td>\n",
       "      <td>20</td>\n",
       "      <td>12</td>\n",
       "      <td>10</td>\n",
       "      <td>55</td>\n",
       "    </tr>\n",
       "    <tr>\n",
       "      <th>96</th>\n",
       "      <td>9.69697</td>\n",
       "      <td>1641</td>\n",
       "      <td>91</td>\n",
       "      <td>19</td>\n",
       "      <td>12</td>\n",
       "      <td>9</td>\n",
       "      <td>53</td>\n",
       "    </tr>\n",
       "    <tr>\n",
       "      <th>97</th>\n",
       "      <td>9.79798</td>\n",
       "      <td>1641</td>\n",
       "      <td>91</td>\n",
       "      <td>19</td>\n",
       "      <td>12</td>\n",
       "      <td>9</td>\n",
       "      <td>53</td>\n",
       "    </tr>\n",
       "    <tr>\n",
       "      <th>98</th>\n",
       "      <td>9.89899</td>\n",
       "      <td>1600</td>\n",
       "      <td>88</td>\n",
       "      <td>19</td>\n",
       "      <td>12</td>\n",
       "      <td>9</td>\n",
       "      <td>53</td>\n",
       "    </tr>\n",
       "    <tr>\n",
       "      <th>99</th>\n",
       "      <td>10.00000</td>\n",
       "      <td>1589</td>\n",
       "      <td>88</td>\n",
       "      <td>19</td>\n",
       "      <td>12</td>\n",
       "      <td>9</td>\n",
       "      <td>53</td>\n",
       "    </tr>\n",
       "  </tbody>\n",
       "</table>\n",
       "<p>100 rows × 7 columns</p>\n",
       "</div>"
      ],
      "text/plain": [
       "    threshold  total_sessions_found  total_accounts_found  \\\n",
       "0     0.00000                 93645                  2430   \n",
       "1     0.10101                 54970                  1988   \n",
       "2     0.20202                 36548                  1390   \n",
       "3     0.30303                 30510                  1096   \n",
       "4     0.40404                 29000                  1023   \n",
       "..        ...                   ...                   ...   \n",
       "95    9.59596                  1659                    93   \n",
       "96    9.69697                  1641                    91   \n",
       "97    9.79798                  1641                    91   \n",
       "98    9.89899                  1600                    88   \n",
       "99   10.00000                  1589                    88   \n",
       "\n",
       "    fund_extraction_found  information_theft_found  theft_found  ato_found  \n",
       "0                      20                       13           10         58  \n",
       "1                      20                       13           10         58  \n",
       "2                      20                       13           10         58  \n",
       "3                      20                       13           10         58  \n",
       "4                      20                       13           10         58  \n",
       "..                    ...                      ...          ...        ...  \n",
       "95                     20                       12           10         55  \n",
       "96                     19                       12            9         53  \n",
       "97                     19                       12            9         53  \n",
       "98                     19                       12            9         53  \n",
       "99                     19                       12            9         53  \n",
       "\n",
       "[100 rows x 7 columns]"
      ]
     },
     "execution_count": 61,
     "metadata": {},
     "output_type": "execute_result"
    }
   ],
   "source": [
    "found_accounts = 0\n",
    "thresholds = np.linspace(0,10,100)\n",
    "results = []\n",
    "for th in thresholds:\n",
    "    th_data = data[data.session_score >= th]\n",
    "    accounts = th_data.user_id.unique()\n",
    "    results.append({\n",
    "         'threshold':th,\n",
    "         'total_sessions_found':th_data.shape[0],\n",
    "         'total_accounts_found':len(accounts),\n",
    "         'fund_extraction_found':len(set(accounts).intersection(set(affected_accounts['funds_extraction']))),\n",
    "         'information_theft_found':len(set(accounts).intersection(set(affected_accounts['information_theft']))),\n",
    "         'theft_found':len(set(accounts).intersection(set(affected_accounts['theft']))),\n",
    "         'ato_found':len(set(accounts).intersection(set(affected_accounts['ato'])))\n",
    "    })\n",
    "results = pd.DataFrame(results,columns=['threshold','total_sessions_found','total_accounts_found','fund_extraction_found','information_theft_found','theft_found','ato_found'])\n",
    "results"
   ]
  },
  {
   "cell_type": "code",
   "execution_count": 69,
   "metadata": {},
   "outputs": [
    {
     "name": "stdout",
     "output_type": "stream",
     "text": [
      "Maximal Threshold : 5.56\n",
      "Above this session score some affected accounts wont be flagged.\n",
      "\n",
      "threshold                     5.555556\n",
      "total_sessions_found       4212.000000\n",
      "total_accounts_found        197.000000\n",
      "fund_extraction_found        20.000000\n",
      "information_theft_found      13.000000\n",
      "theft_found                  10.000000\n",
      "ato_found                    58.000000\n",
      "Name: 55, dtype: float64 \n",
      "\n",
      "8.1% of all accounts were flagged as affected by a malicous session\n",
      "4.5% of all sessions were flagged as malicous\n"
     ]
    }
   ],
   "source": [
    "th = results[results.fund_extraction_found.eq(len(affected_accounts['funds_extraction']))]\n",
    "th = th[th.information_theft_found.eq(len(affected_accounts['information_theft']))]\n",
    "th = th[th.theft_found.eq(len(affected_accounts['theft']))]\n",
    "th = th[th.ato_found.eq(len(affected_accounts['ato']))]\n",
    "threshold = th.threshold.max()\n",
    "r = results.loc[th.threshold.idxmax()]\n",
    "\n",
    "account_catch_Ratio = r.total_accounts_found / data.user_id.nunique()\n",
    "session_catch_Ratio = r.total_sessions_found / data.shape[0]\n",
    "\n",
    "\n",
    "print(f\"Maximal Threshold : {threshold:.2f}\")\n",
    "print(\"Above this session score some affected accounts wont be flagged.\\n\")\n",
    "print(r,'\\n')\n",
    "print(f\"{account_catch_Ratio*100:.1f}% of all accounts were flagged as affected by a malicous session\")\n",
    "print(f\"{session_catch_Ratio*100:.1f}% of all sessions were flagged as malicous\")"
   ]
  }
 ],
 "metadata": {
  "kernelspec": {
   "display_name": ".venv",
   "language": "python",
   "name": "python3"
  },
  "language_info": {
   "codemirror_mode": {
    "name": "ipython",
    "version": 3
   },
   "file_extension": ".py",
   "mimetype": "text/x-python",
   "name": "python",
   "nbconvert_exporter": "python",
   "pygments_lexer": "ipython3",
   "version": "3.12.4"
  }
 },
 "nbformat": 4,
 "nbformat_minor": 2
}
